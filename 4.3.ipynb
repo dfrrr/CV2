{
 "cells": [
  {
   "cell_type": "code",
   "execution_count": 1,
   "id": "b4d4b17c",
   "metadata": {},
   "outputs": [],
   "source": [
    "import cv2,numpy as np"
   ]
  },
  {
   "cell_type": "code",
   "execution_count": 2,
   "id": "d174bbd2",
   "metadata": {},
   "outputs": [],
   "source": [
    "import pandas"
   ]
  },
  {
   "cell_type": "code",
   "execution_count": 5,
   "id": "0563b1d6",
   "metadata": {},
   "outputs": [],
   "source": [
    "pic1=cv2.imread('r.jpg')\n",
    "pic2=cv2.imread('a.png')\n",
    "combine=cv2.hconcat([pic1,pic2])\n",
    "cv2.imshow('join',combine)\n",
    "cv2.waitKey()\n",
    "cv2.destroyAllWindows()"
   ]
  },
  {
   "cell_type": "code",
   "execution_count": 4,
   "id": "534e6eec",
   "metadata": {},
   "outputs": [
    {
     "data": {
      "text/plain": [
       "(512, 512, 3)"
      ]
     },
     "execution_count": 4,
     "metadata": {},
     "output_type": "execute_result"
    }
   ],
   "source": [
    "pic1.shape\n"
   ]
  },
  {
   "cell_type": "code",
   "execution_count": null,
   "id": "c8ce84c8",
   "metadata": {},
   "outputs": [],
   "source": []
  }
 ],
 "metadata": {
  "kernelspec": {
   "display_name": "Python 3",
   "language": "python",
   "name": "python3"
  },
  "language_info": {
   "codemirror_mode": {
    "name": "ipython",
    "version": 3
   },
   "file_extension": ".py",
   "mimetype": "text/x-python",
   "name": "python",
   "nbconvert_exporter": "python",
   "pygments_lexer": "ipython3",
   "version": "3.8.8"
  }
 },
 "nbformat": 4,
 "nbformat_minor": 5
}
