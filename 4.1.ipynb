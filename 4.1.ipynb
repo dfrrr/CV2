{
 "cells": [
  {
   "cell_type": "code",
   "execution_count": 1,
   "id": "5ff786eb",
   "metadata": {},
   "outputs": [],
   "source": [
    "import cv2\n",
    "import numpy as np"
   ]
  },
  {
   "cell_type": "code",
   "execution_count": 2,
   "id": "e9906fad",
   "metadata": {},
   "outputs": [],
   "source": [
    "indian_flag=np.zeros((350,600,3),np.uint8)\n",
    "indian_flag[0:100,:]=(88,199,241)\n",
    "indian_flag[:,0:300]=(88,199,241)\n",
    "indian_flag[100:150,100:500]=(44,165,255)\n",
    "indian_flag[:,500:600]=(88,199,241)\n",
    "indian_flag[150:200,100:500]=(255,255,255)\n",
    "indian_flag[200:250,100:500]=(24,128,0)\n",
    "indian_flag[250:350,:]=(88,199,241)"
   ]
  },
  {
   "cell_type": "code",
   "execution_count": 3,
   "id": "0de0442d",
   "metadata": {},
   "outputs": [],
   "source": [
    "flag=cv2.circle(indian_flag,(300,175),(22),(100,50,0),(4))"
   ]
  },
  {
   "cell_type": "code",
   "execution_count": 4,
   "id": "13a2202d",
   "metadata": {},
   "outputs": [],
   "source": [
    "flag=cv2.line(indian_flag,(275,175),(325,175),(100,50,0),(2))\n",
    "flag=cv2.line(indian_flag,(300,150),(300,200),(100,50,0),(2))\n",
    "flag=cv2.line(indian_flag,(283,158),(319,190),(100,50,0),(2))\n",
    "flag=cv2.line(indian_flag,(319,160),(285,189),(100,50,0),(2))\n"
   ]
  },
  {
   "cell_type": "code",
   "execution_count": 5,
   "id": "226f1361",
   "metadata": {},
   "outputs": [],
   "source": [
    "cv2.imshow('JAI HIND',indian_flag)\n",
    "cv2.waitKey()\n",
    "cv2.destroyAllWindows()\n"
   ]
  },
  {
   "cell_type": "code",
   "execution_count": null,
   "id": "23c30660",
   "metadata": {},
   "outputs": [],
   "source": []
  },
  {
   "cell_type": "code",
   "execution_count": null,
   "id": "a49f814a",
   "metadata": {},
   "outputs": [],
   "source": []
  }
 ],
 "metadata": {
  "kernelspec": {
   "display_name": "Python 3",
   "language": "python",
   "name": "python3"
  },
  "language_info": {
   "codemirror_mode": {
    "name": "ipython",
    "version": 3
   },
   "file_extension": ".py",
   "mimetype": "text/x-python",
   "name": "python",
   "nbconvert_exporter": "python",
   "pygments_lexer": "ipython3",
   "version": "3.8.8"
  }
 },
 "nbformat": 4,
 "nbformat_minor": 5
}
