{
 "cells": [
  {
   "cell_type": "code",
   "execution_count": 1,
   "id": "370eb387",
   "metadata": {},
   "outputs": [],
   "source": [
    "import cv2\n",
    "import numpy as np"
   ]
  },
  {
   "cell_type": "code",
   "execution_count": 2,
   "id": "9ecad389",
   "metadata": {},
   "outputs": [],
   "source": [
    "ax1=310\n",
    "ay1=20\n",
    "ax2=540\n",
    "ay2=270\n",
    "\n",
    "pic1=cv2.imread('vk.jpg')\n",
    "pic11=pic1[ay1:ay2,ax1:ax2]\n",
    "\n",
    "cv2.imshow('hi',pic11)\n",
    "cv2.waitKey()\n",
    "cv2.destroyAllWindows()"
   ]
  },
  {
   "cell_type": "code",
   "execution_count": 3,
   "id": "b4164f7f",
   "metadata": {},
   "outputs": [
    {
     "data": {
      "text/plain": [
       "(404, 647, 3)"
      ]
     },
     "execution_count": 3,
     "metadata": {},
     "output_type": "execute_result"
    }
   ],
   "source": [
    "pic1.shape\n"
   ]
  },
  {
   "cell_type": "code",
   "execution_count": 4,
   "id": "d183e36b",
   "metadata": {},
   "outputs": [],
   "source": [
    "Dhoni=cv2.imread('ms.jpg')\n",
    "dx1=160\n",
    "dy1=0\n",
    "dx2=390\n",
    "dy2=250\n",
    "crop=Dhoni[dy1:dy2,dx1:dx2]\n",
    "cv2.imshow('hello',crop)\n",
    "cv2.waitKey()\n",
    "cv2.destroyAllWindows()"
   ]
  },
  {
   "cell_type": "code",
   "execution_count": 5,
   "id": "1720d9df",
   "metadata": {},
   "outputs": [],
   "source": [
    "Dhoni=cv2.imread('ms.jpg')\n",
    "Dhoni[dy1:dy2,dx1:dx2]=pic11\n",
    "cv2.imshow('hello',Dhoni)\n",
    "cv2.waitKey()\n",
    "cv2.destroyAllWindows()"
   ]
  },
  {
   "cell_type": "code",
   "execution_count": 6,
   "id": "4f990d95",
   "metadata": {},
   "outputs": [
    {
     "data": {
      "text/plain": [
       "(250, 230, 3)"
      ]
     },
     "execution_count": 6,
     "metadata": {},
     "output_type": "execute_result"
    }
   ],
   "source": [
    "pic1[ay1:ay2,ax1:ax2].shape\n"
   ]
  },
  {
   "cell_type": "code",
   "execution_count": 7,
   "id": "8a1c9293",
   "metadata": {},
   "outputs": [
    {
     "data": {
      "text/plain": [
       "(250, 230, 3)"
      ]
     },
     "execution_count": 7,
     "metadata": {},
     "output_type": "execute_result"
    }
   ],
   "source": [
    "Dhoni[dy1:dy2,dx1:dx2].shape"
   ]
  },
  {
   "cell_type": "code",
   "execution_count": null,
   "id": "ee850708",
   "metadata": {},
   "outputs": [],
   "source": []
  }
 ],
 "metadata": {
  "kernelspec": {
   "display_name": "Python 3",
   "language": "python",
   "name": "python3"
  },
  "language_info": {
   "codemirror_mode": {
    "name": "ipython",
    "version": 3
   },
   "file_extension": ".py",
   "mimetype": "text/x-python",
   "name": "python",
   "nbconvert_exporter": "python",
   "pygments_lexer": "ipython3",
   "version": "3.8.8"
  }
 },
 "nbformat": 4,
 "nbformat_minor": 5
}
